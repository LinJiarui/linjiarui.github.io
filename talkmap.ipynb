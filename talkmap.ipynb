{
 "cells": [
  {
   "cell_type": "markdown",
   "metadata": {},
   "source": [
    "# Leaflet cluster map of talk locations\n",
    "\n",
    "set folder as the _talks directory, which contains .md files of all your talks, and Run this notebook. This scrapes the location YAML field from each .md file, geolocates it with geopy/Nominatim, and uses the getorg library to output data, HTML, and Javascript for a standalone cluster map."
   ]
  },
  {
   "cell_type": "code",
   "execution_count": 2,
   "metadata": {
    "scrolled": false
   },
   "outputs": [
    {
     "name": "stdout",
     "output_type": "stream",
     "text": [
      "Requirement already up-to-date: getorg in c:\\users\\jiarui lin\\appdata\\local\\programs\\python\\python35\\lib\\site-packages (0.3.1)\n",
      "Requirement already satisfied, skipping upgrade: retrying in c:\\users\\jiarui lin\\appdata\\local\\programs\\python\\python35\\lib\\site-packages (from getorg) (1.3.3)\n",
      "Requirement already satisfied, skipping upgrade: pygithub in c:\\users\\jiarui lin\\appdata\\local\\programs\\python\\python35\\lib\\site-packages (from getorg) (1.46)\n",
      "Requirement already satisfied, skipping upgrade: geopy in c:\\users\\jiarui lin\\appdata\\local\\programs\\python\\python35\\lib\\site-packages (from getorg) (1.21.0)\n",
      "Requirement already satisfied, skipping upgrade: six>=1.7.0 in c:\\users\\jiarui lin\\appdata\\local\\programs\\python\\python35\\lib\\site-packages (from retrying->getorg) (1.13.0)\n",
      "Requirement already satisfied, skipping upgrade: requests>=2.14.0 in c:\\users\\jiarui lin\\appdata\\local\\programs\\python\\python35\\lib\\site-packages (from pygithub->getorg) (2.22.0)\n",
      "Requirement already satisfied, skipping upgrade: deprecated in c:\\users\\jiarui lin\\appdata\\local\\programs\\python\\python35\\lib\\site-packages (from pygithub->getorg) (1.2.7)\n",
      "Requirement already satisfied, skipping upgrade: pyjwt in c:\\users\\jiarui lin\\appdata\\local\\programs\\python\\python35\\lib\\site-packages (from pygithub->getorg) (1.7.1)\n",
      "Requirement already satisfied, skipping upgrade: geographiclib<2,>=1.49 in c:\\users\\jiarui lin\\appdata\\local\\programs\\python\\python35\\lib\\site-packages (from geopy->getorg) (1.50)\n",
      "Requirement already satisfied, skipping upgrade: idna<2.9,>=2.5 in c:\\users\\jiarui lin\\appdata\\local\\programs\\python\\python35\\lib\\site-packages (from requests>=2.14.0->pygithub->getorg) (2.8)\n",
      "Requirement already satisfied, skipping upgrade: chardet<3.1.0,>=3.0.2 in c:\\users\\jiarui lin\\appdata\\local\\programs\\python\\python35\\lib\\site-packages (from requests>=2.14.0->pygithub->getorg) (3.0.4)\n",
      "Requirement already satisfied, skipping upgrade: certifi>=2017.4.17 in c:\\users\\jiarui lin\\appdata\\local\\programs\\python\\python35\\lib\\site-packages (from requests>=2.14.0->pygithub->getorg) (2019.11.28)\n",
      "Requirement already satisfied, skipping upgrade: urllib3!=1.25.0,!=1.25.1,<1.26,>=1.21.1 in c:\\users\\jiarui lin\\appdata\\local\\programs\\python\\python35\\lib\\site-packages (from requests>=2.14.0->pygithub->getorg) (1.25.8)\n",
      "Requirement already satisfied, skipping upgrade: wrapt<2,>=1.10 in c:\\users\\jiarui lin\\appdata\\local\\programs\\python\\python35\\lib\\site-packages (from deprecated->pygithub->getorg) (1.11.2)\n"
     ]
    }
   ],
   "source": [
    "!pip install getorg --upgrade\n",
    "#import glob\n",
    "import os\n",
    "import getorg\n",
    "from geopy import Nominatim"
   ]
  },
  {
   "cell_type": "code",
   "execution_count": 17,
   "metadata": {},
   "outputs": [],
   "source": [
    "#g = glob.glob(\"*.md\")\n",
    "folder='./_talks/'\n",
    "g = [f for f in os.listdir(folder) if os.path.isfile(os.path.join(folder, f)) and f.endswith('.md')]"
   ]
  },
  {
   "cell_type": "code",
   "execution_count": 18,
   "metadata": {},
   "outputs": [
    {
     "data": {
      "text/plain": [
       "['2019-08-27-BIM-center-5th-talk.md',\n",
       " '2019-09-04-development-of-smart-BIM-platform.md',\n",
       " '2019-10-18-policies-practice-trends-of-BIM.md']"
      ]
     },
     "execution_count": 18,
     "metadata": {},
     "output_type": "execute_result"
    }
   ],
   "source": [
    "g"
   ]
  },
  {
   "cell_type": "code",
   "execution_count": 19,
   "metadata": {},
   "outputs": [
    {
     "name": "stderr",
     "output_type": "stream",
     "text": [
      "c:\\users\\jiarui lin\\appdata\\local\\programs\\python\\python35\\lib\\site-packages\\ipykernel_launcher.py:1: DeprecationWarning: Using Nominatim with the default \"geopy/1.21.0\" `user_agent` is strongly discouraged, as it violates Nominatim's ToS https://operations.osmfoundation.org/policies/nominatim/ and may possibly cause 403 and 429 HTTP errors. Please specify a custom `user_agent` with `Nominatim(user_agent=\"my-application\")` or by overriding the default `user_agent`: `geopy.geocoders.options.default_user_agent = \"my-application\"`. In geopy 2.0 this will become an exception.\n",
      "  \"\"\"Entry point for launching an IPython kernel.\n"
     ]
    }
   ],
   "source": [
    "geocoder = Nominatim()\n",
    "location_dict = {}\n",
    "location = \"\"\n",
    "permalink = \"\"\n",
    "title = \"\""
   ]
  },
  {
   "cell_type": "code",
   "execution_count": 20,
   "metadata": {
    "scrolled": false
   },
   "outputs": [
    {
     "name": "stdout",
     "output_type": "stream",
     "text": [
      "甘肃省甘南藏族自治州, 中国 \n",
      " None\n",
      "海南省海口市, 中国 \n",
      " None\n",
      "重庆, 中国 \n",
      " 重庆市, 重庆市中心, 渝中区 (Yuzhong), 重庆市, 400014, China 中国\n"
     ]
    }
   ],
   "source": [
    "\n",
    "for file in g:\n",
    "    with open(folder+file, 'r',encoding='utf-8') as f:\n",
    "        lines = f.read()\n",
    "        if lines.find('location: \"') > 1:\n",
    "            loc_start = lines.find('location: \"') + 11\n",
    "            lines_trim = lines[loc_start:]\n",
    "            loc_end = lines_trim.find('\"')\n",
    "            location = lines_trim[:loc_end]\n",
    "                            \n",
    "           \n",
    "        location_dict[location] = geocoder.geocode(location)\n",
    "        print(location, \"\\n\", location_dict[location])\n"
   ]
  },
  {
   "cell_type": "code",
   "execution_count": 5,
   "metadata": {},
   "outputs": [
    {
     "data": {
      "text/plain": [
       "'Written map to ../talkmap/'"
      ]
     },
     "execution_count": 5,
     "metadata": {},
     "output_type": "execute_result"
    }
   ],
   "source": [
    "m = getorg.orgmap.create_map_obj()\n",
    "getorg.orgmap.output_html_cluster_map(location_dict, folder_name=\"./talkmap\", hashed_usernames=False)"
   ]
  },
  {
   "cell_type": "code",
   "execution_count": null,
   "metadata": {
    "collapsed": true
   },
   "outputs": [],
   "source": []
  }
 ],
 "metadata": {
  "anaconda-cloud": {},
  "kernelspec": {
   "display_name": "Python 3",
   "language": "python",
   "name": "python3"
  },
  "language_info": {
   "codemirror_mode": {
    "name": "ipython",
    "version": 3
   },
   "file_extension": ".py",
   "mimetype": "text/x-python",
   "name": "python",
   "nbconvert_exporter": "python",
   "pygments_lexer": "ipython3",
   "version": "3.5.0"
  }
 },
 "nbformat": 4,
 "nbformat_minor": 1
}
